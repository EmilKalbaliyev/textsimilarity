{
 "cells": [
  {
   "cell_type": "code",
   "execution_count": 1,
   "metadata": {},
   "outputs": [],
   "source": [
    "import math\n",
    "import numpy as np\n",
    "import pandas as pd\n",
    "from sklearn.metrics import make_scorer, accuracy_score, precision_score, recall_score, f1_score\n",
    "from sklearn import model_selection\n",
    "import csv"
   ]
  },
  {
   "cell_type": "code",
   "execution_count": 2,
   "metadata": {},
   "outputs": [],
   "source": [
    "data = pd.read_csv('res.csv')"
   ]
  },
  {
   "cell_type": "code",
   "execution_count": 3,
   "metadata": {},
   "outputs": [],
   "source": [
    "DataX = data [['Jaro','Winkler','Levenshtein','Ratcliff_Obershelp','Damerau-Levenshtein','LCSubstring','LCSubsequence']]\n",
    "DataY = data [['similar']]"
   ]
  },
  {
   "cell_type": "markdown",
   "metadata": {},
   "source": [
    "## SVM"
   ]
  },
  {
   "cell_type": "code",
   "execution_count": 4,
   "metadata": {},
   "outputs": [],
   "source": [
    "from sklearn.svm import SVC\n",
    "svm = SVC()\n",
    "\n",
    "scoring = {'accuracy' : make_scorer(accuracy_score), \n",
    "           'precision' : make_scorer(precision_score),\n",
    "           'recall' : make_scorer(recall_score), \n",
    "           'f1_score' : make_scorer(f1_score)}\n",
    "\n",
    "kfold = model_selection.KFold(n_splits=10)\n",
    "\n",
    "svm_results = model_selection.cross_validate(estimator=svm,\n",
    "                                          X=DataX,\n",
    "                                          y=DataY.values.ravel(),\n",
    "                                          cv=kfold,\n",
    "                                          scoring=scoring)"
   ]
  },
  {
   "cell_type": "code",
   "execution_count": 5,
   "metadata": {},
   "outputs": [
    {
     "data": {
      "text/plain": [
       "{'fit_time': array([1.06880713, 0.8829329 , 0.99469304, 0.90784287, 0.89578605,\n",
       "        0.99943686, 0.8455286 , 0.91578913, 0.87185574, 0.88204312]),\n",
       " 'score_time': array([0.06406116, 0.05738688, 0.05727792, 0.05853295, 0.05773997,\n",
       "        0.06119013, 0.05719304, 0.06508994, 0.05797815, 0.05760908]),\n",
       " 'test_accuracy': array([0.9125    , 0.89479167, 0.88645833, 0.90625   , 0.89895833,\n",
       "        0.90104167, 0.88020833, 0.90520833, 0.896875  , 0.91145833]),\n",
       " 'test_precision': array([0.95374449, 0.93932584, 0.91648822, 0.94843049, 0.93877551,\n",
       "        0.93647059, 0.90117647, 0.93735499, 0.91441441, 0.95852535]),\n",
       " 'test_recall': array([0.87298387, 0.8495935 , 0.85943775, 0.86326531, 0.8553719 ,\n",
       "        0.85407725, 0.83991228, 0.86324786, 0.86937901, 0.86128364]),\n",
       " 'test_f1_score': array([0.91157895, 0.89220918, 0.88704663, 0.90384615, 0.89513514,\n",
       "        0.89337823, 0.86946652, 0.89877642, 0.89132821, 0.90730643])}"
      ]
     },
     "execution_count": 5,
     "metadata": {},
     "output_type": "execute_result"
    }
   ],
   "source": [
    "svm_results"
   ]
  },
  {
   "cell_type": "code",
   "execution_count": 6,
   "metadata": {},
   "outputs": [
    {
     "name": "stdout",
     "output_type": "stream",
     "text": [
      "Accuracy:  0.899375\n",
      "Precision:  0.9344706369523532\n",
      "Recall:  0.8588552380905747\n",
      "F1_score:  0.8950071851761401\n"
     ]
    }
   ],
   "source": [
    "print(\"Accuracy: \",np.mean(svm_results[\"test_accuracy\"]))\n",
    "print(\"Precision: \",np.mean(svm_results[\"test_precision\"]))\n",
    "print(\"Recall: \",np.mean(svm_results[\"test_recall\"]))\n",
    "print(\"F1_score: \",np.mean(svm_results[\"test_f1_score\"]))"
   ]
  },
  {
   "cell_type": "markdown",
   "metadata": {},
   "source": [
    "## Random Forest Classifier"
   ]
  },
  {
   "cell_type": "code",
   "execution_count": 7,
   "metadata": {},
   "outputs": [],
   "source": [
    "from sklearn.ensemble import RandomForestClassifier\n",
    "rf = RandomForestClassifier()\n",
    "# rfp= rf.fit(TrainDataX, TrainDataY)\n",
    "\n",
    "scoring = {'accuracy' : make_scorer(accuracy_score), \n",
    "           'precision' : make_scorer(precision_score),\n",
    "           'recall' : make_scorer(recall_score), \n",
    "           'f1_score' : make_scorer(f1_score)}\n",
    "\n",
    "kfold = model_selection.KFold(n_splits=10)\n",
    "\n",
    "rfp_results = model_selection.cross_validate(estimator=rf,\n",
    "                                          X=DataX,\n",
    "                                          y=DataY.values.ravel(),\n",
    "                                          cv=kfold,\n",
    "                                          scoring=scoring)"
   ]
  },
  {
   "cell_type": "code",
   "execution_count": 8,
   "metadata": {},
   "outputs": [
    {
     "data": {
      "text/plain": [
       "{'fit_time': array([1.38355994, 1.38310695, 1.38136601, 1.36089969, 1.25741696,\n",
       "        1.23946381, 1.36972594, 1.36624312, 1.57740712, 1.36504292]),\n",
       " 'score_time': array([0.02855086, 0.02776909, 0.02406216, 0.02436829, 0.02413726,\n",
       "        0.0243752 , 0.03871584, 0.04156017, 0.02554607, 0.02635908]),\n",
       " 'test_accuracy': array([0.978125  , 0.96458333, 0.965625  , 0.94791667, 0.96354167,\n",
       "        0.95      , 0.96458333, 0.96875   , 0.96354167, 0.89270833]),\n",
       " 'test_precision': array([0.97125257, 0.97649573, 0.96465696, 0.97991071, 0.9764454 ,\n",
       "        0.99090909, 0.97649573, 0.97468354, 0.97849462, 0.97964377]),\n",
       " 'test_recall': array([0.98541667, 0.95208333, 0.96666667, 0.91458333, 0.95      ,\n",
       "        0.90833333, 0.95208333, 0.9625    , 0.94791667, 0.80208333]),\n",
       " 'test_f1_score': array([0.97828335, 0.96413502, 0.96566077, 0.94612069, 0.96304118,\n",
       "        0.94782609, 0.96413502, 0.96855346, 0.96296296, 0.88201604])}"
      ]
     },
     "execution_count": 8,
     "metadata": {},
     "output_type": "execute_result"
    }
   ],
   "source": [
    "rfp_results"
   ]
  },
  {
   "cell_type": "code",
   "execution_count": 9,
   "metadata": {},
   "outputs": [
    {
     "name": "stdout",
     "output_type": "stream",
     "text": [
      "Accuracy:  0.9559374999999999\n",
      "Precision:  0.9768988119586967\n",
      "Recall:  0.9341666666666667\n",
      "F1_score:  0.95427345808256\n"
     ]
    }
   ],
   "source": [
    "print(\"Accuracy: \",np.mean(rfp_results[\"test_accuracy\"]))\n",
    "print(\"Precision: \",np.mean(rfp_results[\"test_precision\"]))\n",
    "print(\"Recall: \",np.mean(rfp_results[\"test_recall\"]))\n",
    "print(\"F1_score: \",np.mean(rfp_results[\"test_f1_score\"]))"
   ]
  },
  {
   "cell_type": "markdown",
   "metadata": {},
   "source": [
    "## MLPClassifier"
   ]
  },
  {
   "cell_type": "code",
   "execution_count": 10,
   "metadata": {},
   "outputs": [],
   "source": [
    "from sklearn.neural_network import MLPClassifier\n",
    "model = MLPClassifier(hidden_layer_sizes=(100,100,100),solver='adam', max_iter=500,learning_rate='adaptive')\n",
    "\n",
    "scoring = {'accuracy' : make_scorer(accuracy_score), \n",
    "           'precision' : make_scorer(precision_score),\n",
    "           'recall' : make_scorer(recall_score), \n",
    "           'f1_score' : make_scorer(f1_score)}\n",
    "\n",
    "kfold = model_selection.KFold(n_splits=10)\n",
    "\n",
    "results = model_selection.cross_validate(estimator=model,\n",
    "                                          X=DataX,\n",
    "                                          y=DataY.values.ravel(),\n",
    "                                          cv=kfold,\n",
    "                                          scoring=scoring)"
   ]
  },
  {
   "cell_type": "code",
   "execution_count": 11,
   "metadata": {},
   "outputs": [
    {
     "data": {
      "text/plain": [
       "{'fit_time': array([ 6.04895997,  9.11617088,  5.12497091,  3.63388205,  5.64140391,\n",
       "         8.99197125,  7.42796898, 10.1205852 ,  8.93769622,  8.04639816]),\n",
       " 'score_time': array([0.00779772, 0.0071559 , 0.00689101, 0.00711393, 0.0096283 ,\n",
       "        0.0067358 , 0.00732088, 0.00688195, 0.0071528 , 0.007164  ]),\n",
       " 'test_accuracy': array([0.946875  , 0.94375   , 0.946875  , 0.95520833, 0.97708333,\n",
       "        0.96979167, 0.96041667, 0.97291667, 0.965625  , 0.97083333]),\n",
       " 'test_precision': array([0.98855835, 0.96796339, 0.93836978, 0.94081633, 0.95841584,\n",
       "        0.95366795, 0.95652174, 0.95573441, 0.97204301, 0.96732026]),\n",
       " 'test_recall': array([0.90376569, 0.91360691, 0.95934959, 0.97052632, 0.99793814,\n",
       "        0.98997996, 0.968     , 0.99164927, 0.95762712, 0.97155361]),\n",
       " 'test_f1_score': array([0.9442623 , 0.94      , 0.94874372, 0.95544041, 0.97777778,\n",
       "        0.97148476, 0.96222664, 0.97336066, 0.96478122, 0.96943231])}"
      ]
     },
     "execution_count": 11,
     "metadata": {},
     "output_type": "execute_result"
    }
   ],
   "source": [
    "results"
   ]
  },
  {
   "cell_type": "code",
   "execution_count": 12,
   "metadata": {},
   "outputs": [
    {
     "name": "stdout",
     "output_type": "stream",
     "text": [
      "Accuracy:  0.9609375\n",
      "Precision:  0.959941105998495\n",
      "Recall:  0.9623996613817212\n",
      "F1_score:  0.9607509792011971\n"
     ]
    }
   ],
   "source": [
    "print(\"Accuracy: \",np.mean(results[\"test_accuracy\"]))\n",
    "print(\"Precision: \",np.mean(results[\"test_precision\"]))\n",
    "print(\"Recall: \",np.mean(results[\"test_recall\"]))\n",
    "print(\"F1_score: \",np.mean(results[\"test_f1_score\"]))"
   ]
  }
 ],
 "metadata": {
  "kernelspec": {
   "display_name": "Python 3",
   "language": "python",
   "name": "python3"
  },
  "language_info": {
   "codemirror_mode": {
    "name": "ipython",
    "version": 3
   },
   "file_extension": ".py",
   "mimetype": "text/x-python",
   "name": "python",
   "nbconvert_exporter": "python",
   "pygments_lexer": "ipython3",
   "version": "3.7.6"
  }
 },
 "nbformat": 4,
 "nbformat_minor": 2
}
